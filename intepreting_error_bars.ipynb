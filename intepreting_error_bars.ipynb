{
 "cells": [
  {
   "cell_type": "code",
   "execution_count": 6,
   "metadata": {},
   "outputs": [],
   "source": [
    "import pandas as pd\n",
    "import io\n",
    "import requests\n",
    "from IPython.display import Image\n",
    "\n",
    "import warnings\n",
    "warnings.filterwarnings(\"ignore\")\n",
    "import matplotlib.pyplot as plt\n",
    "%matplotlib inline "
   ]
  },
  {
   "cell_type": "markdown",
   "metadata": {},
   "source": [
    "Have you ever seen a bar chart like the one below with a bunch of extra lines sticking out all over the place? The thing that differentiaties the below chart with your usual bar charts is that this chart has what we call as error bars. A bar chart without error bars gives the illusion that a measured or calculated value is known to have high precision or high confidence.<br>\n",
    "This notebook will explore what error bars are, how to intepret and draw conclusions from them. And, I will show an example of how to create error bars on a bar chart using using some real word data.\n",
    "<img src=\"bar_chart_error_bars.png\" alt=\"image info\"/>"
   ]
  },
  {
   "cell_type": "markdown",
   "metadata": {},
   "source": [
    "Error bars are used on graphs to indicate the error or uncertainty in a reported measurement. We know that our measurement isn't perfect and the key to being sure about whether there is a statistically significant\n",
    "difference between two or more groups is to estimate how much error there is in the measurement. Error bars help to indicate estimated error or uncertainty through the use of markers drawn over the graph and its data points.\n",
    "\n",
    "Error bars can communicate the following information about your data:\n",
    "- A general idea of how accurate a measurement is, or conversely, how far the reported value from true value.<br>\n",
    "- How spread the data are around the mean value.<br>\n",
    "\n",
    "\n",
    "There are 3 common statistics that are used to overlay error bars on a graph: standard deviation, standard error, and confidence interval.This notebook will use standard deviation error bars. But what is standard deviation?<br>\n",
    "Standard deviation usually comes first into our mind when we want to measure the spread in the data. Standard deviation tells you:\n",
    "- How much variation or \"dispersion\" there is from the mean.\n",
    "- A number or statistic that summarizes the dispersion in your data.\n",
    "- A low standard deviation indicates that the data points tend to be very close to the mean whereas high standard deviation indicates that the data are spread out over a large range of values.\n",
    "\n",
    "Here is the formula to calculate standard deviation:\n",
    "\n",
    "$$\\sigma = \\sqrt \\frac {\\sum (x_{i} - \\mu)^2}{N}$$\n",
    "\n",
    "$\\sigma$ : Population standard deviation<br>\n",
    "$\\sigma$ : Each value from the population<br>\n",
    "$\\mu$ : Population mean<br>\n",
    "$N$ : Population size<br>\n",
    "\n",
    "Steps to calculate standard deviation:<br>\n",
    "STEP 1 : Calculate the mean.<br>\n",
    "STEP 2 : Calculate variance. Sum the squares of difference between the value and mean, then divide the sum by total population.<br>\n",
    "STEP 3 : Take the square root of the variance.<br>\n",
    "\n",
    "As an example, lets manually calculate the standard deviation for the following list of values:\n",
    "\n",
    "$$\\mu = \\frac {7+8+2+2+6+4+8+3+5+4+9+10}{12}$$\n",
    "\n",
    "Answer:<br>\n",
    "STEP 1 : The mean ($\\mu$) is 5.6<br>\n",
    "STEP 2 : The variance ($\\sigma^2$) is 6.9. $\\sigma^2 = \\frac {(7-5.7)^2+(8-5.7)^2+(2-5.7)^2+(2-5.7)^2+(6-5.7)^2+(4-5.7)^2+(8-5.7)^2+(3-5.7)^2+(5-5.7)^2+(4-5.7)^2+(9-5.7)^2+(10-5.7)^2}{12}$. <br>\n",
    "STEP 3 : The standard deviation is 2.6 ($\\sqrt \\sigma^2$).\n"
   ]
  },
  {
   "cell_type": "markdown",
   "metadata": {},
   "source": [
    "Let's write a vanilla implementation of calculating standard deviation from scratch in Python. And using below function, we get the same number, 2.6 as the standard deviation."
   ]
  },
  {
   "cell_type": "code",
   "execution_count": 7,
   "metadata": {},
   "outputs": [
    {
     "name": "stdout",
     "output_type": "stream",
     "text": [
      "STD DEV: 2.62\n"
     ]
    }
   ],
   "source": [
    "vals = [7, 8, 2, 2, 6, 4, 8, 3, 5, 4, 9, 10]\n",
    "\n",
    "def calc_stddev(vals: list) -> float:\n",
    "  n = len(vals)\n",
    "  mean = sum(vals)/n\n",
    "  return f\"STD DEV: {round((sum([(v-mean)**2 for v in vals])/n) ** 0.5, 2)}\"\n",
    "\n",
    "print(calc_stddev(vals=vals))"
   ]
  },
  {
   "cell_type": "markdown",
   "metadata": {},
   "source": [
    "Let's use some real dataset from Centers for Disease Control and Prevention (CDC) on health trends among adult population in the US to plot & intrepet the error bars.<br>\n",
    "The dataset has the following variables:\n",
    "- genhlth: A categorical vector indicating general health, with categories excellent, very good, good, fair, and poor.<br>\n",
    "- exerany: A categorical vector, 1 if the respondent exercised in the past month and 0 otherwise.<br>\n",
    "- hlthplan: A categorical vector, 1 if the respondent has some form of health coverage and 0 otherwise.<br>\n",
    "- smoke100: A categorical vector, 1 if the respondent has smoked at least 100 cigarettes in their entire life and 0 otherwise.<br>\n",
    "- height: A numerical vector, respondent's height in inches.<br>\n",
    "- weight: A numerical vector, respondent's weight in pounds.<br>\n",
    "- wtdesire: A numerical vector, respondent's desired weight in pounds.<br>\n",
    "- age: A numerical vector, respondent's age in years.<br>\n",
    "- gender: A numerical vector, respondent's gender.<br>\n",
    "\n",
    "Using this dataset, we will look into whether the average weight across general health level (excellent, very good, good, fair, and poor) differs. The variables of interest in this case are genhealth and weight."
   ]
  },
  {
   "cell_type": "code",
   "execution_count": 8,
   "metadata": {},
   "outputs": [],
   "source": [
    "# Load the data\n",
    "df_url = 'https://raw.githubusercontent.com/akmand/datasets/master/cdc.csv'\n",
    "url_content = requests.get(df_url, verify=False).content\n",
    "cdc = pd.read_csv(io.StringIO(url_content.decode('utf-8')))"
   ]
  },
  {
   "cell_type": "code",
   "execution_count": 9,
   "metadata": {},
   "outputs": [
    {
     "data": {
      "text/html": [
       "<div>\n",
       "<style scoped>\n",
       "    .dataframe tbody tr th:only-of-type {\n",
       "        vertical-align: middle;\n",
       "    }\n",
       "\n",
       "    .dataframe tbody tr th {\n",
       "        vertical-align: top;\n",
       "    }\n",
       "\n",
       "    .dataframe thead th {\n",
       "        text-align: right;\n",
       "    }\n",
       "</style>\n",
       "<table border=\"1\" class=\"dataframe\">\n",
       "  <thead>\n",
       "    <tr style=\"text-align: right;\">\n",
       "      <th></th>\n",
       "      <th>genhlth</th>\n",
       "      <th>exerany</th>\n",
       "      <th>hlthplan</th>\n",
       "      <th>smoke100</th>\n",
       "      <th>height</th>\n",
       "      <th>weight</th>\n",
       "      <th>wtdesire</th>\n",
       "      <th>age</th>\n",
       "      <th>gender</th>\n",
       "    </tr>\n",
       "  </thead>\n",
       "  <tbody>\n",
       "    <tr>\n",
       "      <th>14693</th>\n",
       "      <td>good</td>\n",
       "      <td>0</td>\n",
       "      <td>1</td>\n",
       "      <td>0</td>\n",
       "      <td>68</td>\n",
       "      <td>180</td>\n",
       "      <td>160</td>\n",
       "      <td>50</td>\n",
       "      <td>f</td>\n",
       "    </tr>\n",
       "    <tr>\n",
       "      <th>5570</th>\n",
       "      <td>good</td>\n",
       "      <td>0</td>\n",
       "      <td>1</td>\n",
       "      <td>1</td>\n",
       "      <td>72</td>\n",
       "      <td>155</td>\n",
       "      <td>155</td>\n",
       "      <td>62</td>\n",
       "      <td>m</td>\n",
       "    </tr>\n",
       "    <tr>\n",
       "      <th>12884</th>\n",
       "      <td>very good</td>\n",
       "      <td>1</td>\n",
       "      <td>1</td>\n",
       "      <td>0</td>\n",
       "      <td>70</td>\n",
       "      <td>206</td>\n",
       "      <td>185</td>\n",
       "      <td>50</td>\n",
       "      <td>m</td>\n",
       "    </tr>\n",
       "    <tr>\n",
       "      <th>15652</th>\n",
       "      <td>very good</td>\n",
       "      <td>1</td>\n",
       "      <td>0</td>\n",
       "      <td>0</td>\n",
       "      <td>61</td>\n",
       "      <td>130</td>\n",
       "      <td>130</td>\n",
       "      <td>26</td>\n",
       "      <td>f</td>\n",
       "    </tr>\n",
       "    <tr>\n",
       "      <th>8272</th>\n",
       "      <td>very good</td>\n",
       "      <td>1</td>\n",
       "      <td>1</td>\n",
       "      <td>1</td>\n",
       "      <td>71</td>\n",
       "      <td>175</td>\n",
       "      <td>175</td>\n",
       "      <td>40</td>\n",
       "      <td>m</td>\n",
       "    </tr>\n",
       "  </tbody>\n",
       "</table>\n",
       "</div>"
      ],
      "text/plain": [
       "         genhlth  exerany  hlthplan  smoke100  height  weight  wtdesire  age  \\\n",
       "14693       good        0         1         0      68     180       160   50   \n",
       "5570        good        0         1         1      72     155       155   62   \n",
       "12884  very good        1         1         0      70     206       185   50   \n",
       "15652  very good        1         0         0      61     130       130   26   \n",
       "8272   very good        1         1         1      71     175       175   40   \n",
       "\n",
       "      gender  \n",
       "14693      f  \n",
       "5570       m  \n",
       "12884      m  \n",
       "15652      f  \n",
       "8272       m  "
      ]
     },
     "execution_count": 9,
     "metadata": {},
     "output_type": "execute_result"
    }
   ],
   "source": [
    "# Show some samples\n",
    "cdc.sample(5)"
   ]
  },
  {
   "cell_type": "code",
   "execution_count": 10,
   "metadata": {},
   "outputs": [
    {
     "data": {
      "text/html": [
       "<div>\n",
       "<style scoped>\n",
       "    .dataframe tbody tr th:only-of-type {\n",
       "        vertical-align: middle;\n",
       "    }\n",
       "\n",
       "    .dataframe tbody tr th {\n",
       "        vertical-align: top;\n",
       "    }\n",
       "\n",
       "    .dataframe thead tr th {\n",
       "        text-align: left;\n",
       "    }\n",
       "\n",
       "    .dataframe thead tr:last-of-type th {\n",
       "        text-align: right;\n",
       "    }\n",
       "</style>\n",
       "<table border=\"1\" class=\"dataframe\">\n",
       "  <thead>\n",
       "    <tr>\n",
       "      <th></th>\n",
       "      <th colspan=\"2\" halign=\"left\">weight</th>\n",
       "    </tr>\n",
       "    <tr>\n",
       "      <th></th>\n",
       "      <th>mean</th>\n",
       "      <th>std</th>\n",
       "    </tr>\n",
       "    <tr>\n",
       "      <th>genhlth</th>\n",
       "      <th></th>\n",
       "      <th></th>\n",
       "    </tr>\n",
       "  </thead>\n",
       "  <tbody>\n",
       "    <tr>\n",
       "      <th>excellent</th>\n",
       "      <td>162.228903</td>\n",
       "      <td>34.750603</td>\n",
       "    </tr>\n",
       "    <tr>\n",
       "      <th>fair</th>\n",
       "      <td>176.177811</td>\n",
       "      <td>45.744200</td>\n",
       "    </tr>\n",
       "    <tr>\n",
       "      <th>good</th>\n",
       "      <td>173.214097</td>\n",
       "      <td>42.014648</td>\n",
       "    </tr>\n",
       "    <tr>\n",
       "      <th>poor</th>\n",
       "      <td>176.844904</td>\n",
       "      <td>50.262193</td>\n",
       "    </tr>\n",
       "    <tr>\n",
       "      <th>very good</th>\n",
       "      <td>169.211417</td>\n",
       "      <td>38.079130</td>\n",
       "    </tr>\n",
       "  </tbody>\n",
       "</table>\n",
       "</div>"
      ],
      "text/plain": [
       "               weight           \n",
       "                 mean        std\n",
       "genhlth                         \n",
       "excellent  162.228903  34.750603\n",
       "fair       176.177811  45.744200\n",
       "good       173.214097  42.014648\n",
       "poor       176.844904  50.262193\n",
       "very good  169.211417  38.079130"
      ]
     },
     "execution_count": 10,
     "metadata": {},
     "output_type": "execute_result"
    }
   ],
   "source": [
    "# Summary statistics (mean & std) of genhealth and weight\n",
    "cdc.groupby(['genhlth']).agg({'weight':['mean','std']})"
   ]
  },
  {
   "cell_type": "markdown",
   "metadata": {},
   "source": [
    "On the graph, the mean will be the height of the bars in the bar plot and the standard deviation will be the height of the error bars.<br>\n",
    "We can see from the graph that adults with excellent health condition weigh less than the other groups. Thus, looking at the average, can we conclude that the average weight across health groups are different? and adults with excellent health condition weigh less than others? Not so fast.<br>\n",
    "\n",
    "As we can see on the graph, in every group, the error bars are long. This indicates the variablity in the groups is quite large (data is spread out from the mean). \n",
    "- A short error bar indicates low spread of data. Data are clumped arount the mean. \n",
    "- A long error bar indicates a large spread of data. Data are more spread out from the mean."
   ]
  },
  {
   "cell_type": "code",
   "execution_count": 11,
   "metadata": {},
   "outputs": [
    {
     "data": {
      "image/png": "[encoded data removed]",
      "text/plain": [
       "<Figure size 504x288 with 1 Axes>"
      ]
     },
     "metadata": {
      "needs_background": "light"
     },
     "output_type": "display_data"
    }
   ],
   "source": [
    "# Calculate mean and standard deviations.\n",
    "excellent_mean, fair_mean, good_mean, poor_mean, very_good_mean = cdc.groupby(['genhlth']).agg({'weight':'mean'}).reset_index()['weight'].tolist()\n",
    "excellent_std, fair_std, good_std, poor_std, very_good_std = cdc.groupby(['genhlth']).agg({'weight':'std'}).reset_index()['weight'].tolist()\n",
    "\n",
    "# Define labels, positions, bar heights and error bar heights\n",
    "labels = ['Excellent', 'Very Good', 'Good', 'Fair', 'Poor']\n",
    "x_pos = np.arange(len(labels))\n",
    "avgs = [excellent_mean, very_good_mean, good_mean, fair_mean, poor_mean]\n",
    "error = [excellent_std, very_good_std, good_std, fair_std, poor_std]\n",
    "\n",
    "# Build the plot\n",
    "fig, ax = plt.subplots(figsize=(7,4))\n",
    "ax.bar(x_pos, avgs, yerr=error, align='center', alpha=0.4, ecolor='blue', color='green', capsize=5)\n",
    "ax.set_ylabel('Average Weight', fontsize=11)\n",
    "ax.set_xticks(x_pos)\n",
    "ax.set_xticklabels(labels, fontsize=11)\n",
    "ax.set_title('Average Weight Across Different Health Profiles', fontsize=12)\n",
    "plt.tight_layout()\n",
    "plt.show()"
   ]
  },
  {
   "cell_type": "markdown",
   "metadata": {},
   "source": [
    "So what conclusions can be drawn? Error bars can indicate about statistical significance.<br>\n",
    "A statisticall significance means that the results are most likely not due to chance or sampling error. In any observation that involves sampling from a population, there is always the possibility that an observed effect would have occurred due to sampling error.  But if the result is significant, then the researcher may conclude that the observed effect actually reflects the characteristics of the population rather than just sampling error or chance.  \n",
    "\n",
    "​The standard deviation error bars on a graph can be used to get a sense for whether or not a difference is significant. So how do we do that? It is by looking for the overlap between the standard deviation bars.\n",
    "- When standard deviation errors bars overlap, even for a bit, it is a clue that the difference is not statistically significant. The mean from one group is not different from another.\n",
    "- When standard deviation error bars do not overlap, it is a clue that the difference may be significant. The mean from one group is different from another.\n",
    "\n",
    "<img src=\"overlap_bars.png\" alt=\"image info\" />"
   ]
  },
  {
   "cell_type": "markdown",
   "metadata": {},
   "source": [
    "So going back to our example, looking at the error bars, there is not a single overlap between the health groups (excellent, very good, good, fair, and poor). And thus we may conclude that:\n",
    "- There is no differencce between average weight across the health groups.\n",
    "- An adult having excellent heath condition doesnt always weigh less than others who have less than excellent health condition.\n",
    "\n",
    "But just to be sure, you must actually perform statistical tests such as t-test or ANOVA (compare the means between the groups) to support your conclusion\n",
    "\n",
    "To summarize:\n",
    "- Error bars on a graph visually help us to determine the error or uncertainty in our data, and thus improve our confidence in making a decision/conclusion.\n",
    "- There are 3 common statistics that are used to overlay error bars on a graph: standard deviation, standard error, and confidence interval.\n",
    "- A short error bar indicates the data are clumped around the mean, while the long bar indicates the data are spread out from the mean.\n",
    "- While error bars can give us a clue whether a difference is significant in our data, it is advisable to perform a statistical test to further verify our assumption."
   ]
  }
 ],
 "metadata": {
  "kernelspec": {
   "display_name": "Python 3.7.6",
   "language": "python",
   "name": "python3"
  },
  "language_info": {
   "codemirror_mode": {
    "name": "ipython",
    "version": 3
   },
   "file_extension": ".py",
   "mimetype": "text/x-python",
   "name": "python",
   "nbconvert_exporter": "python",
   "pygments_lexer": "ipython3",
   "version": "3.7.6"
  },
  "orig_nbformat": 4,
  "vscode": {
   "interpreter": {
    "hash": "40d3a090f54c6569ab1632332b64b2c03c39dcf918b08424e98f38b5ae0af88f"
   }
  }
 },
 "nbformat": 4,
 "nbformat_minor": 2
}
